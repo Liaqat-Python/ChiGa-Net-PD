{
 "cells": [
  {
   "cell_type": "code",
   "execution_count": 1,
   "metadata": {
    "executionInfo": {
     "elapsed": 15702,
     "status": "ok",
     "timestamp": 1723310605595,
     "user": {
      "displayName": "Liaqat Ali",
      "userId": "05679016512873117773"
     },
     "user_tz": -300
    },
    "id": "M5v0L30-JUXh"
   },
   "outputs": [],
   "source": [
    "import os\n",
    "import numpy as np\n",
    "import pandas as pd\n",
    "import matplotlib.pyplot as plt;\n",
    "from sklearn.feature_selection import SelectKBest\n",
    "from sklearn.feature_selection import chi2\n",
    "# Importing sklearn libraries\n",
    "from sklearn.model_selection import GridSearchCV\n",
    "from sklearn.linear_model import LogisticRegression\n",
    "from sklearn.metrics import confusion_matrix, accuracy_score\n",
    "from sklearn.neighbors import NearestCentroid\n",
    "\n",
    "import time\n",
    "from scipy.stats import uniform\n",
    "from sklearn.model_selection import RandomizedSearchCV, KFold\n",
    "from scipy.stats import randint\n",
    "import natsort\n",
    "# Importing Keras libraries\n",
    "#from keras.utils import np_utils              It was older statement. Gave error. Changed by below. In below code need to change np_utils by utils\n",
    "from keras import utils\n",
    "from keras.models import Sequential\n",
    "from keras.applications import VGG16\n",
    "from keras.applications import imagenet_utils\n",
    "from keras.callbacks import ModelCheckpoint\n",
    "#from keras.preprocessing.image import load_img\n",
    "from tensorflow.keras.utils import load_img\n",
    "#from keras.preprocessing.image import img_to_array\n",
    "from tensorflow.keras.utils import img_to_array\n",
    "from keras.layers import Dense, Conv2D, MaxPooling2D\n",
    "from keras.layers import Dropout, Flatten, GlobalAveragePooling2D\n",
    "\n",
    "from sklearn.metrics import confusion_matrix, ConfusionMatrixDisplay\n",
    "import seaborn as sns\n",
    "import itertools\n",
    "from sklearn.model_selection import KFold\n",
    "import numpy as np\n",
    "from sklearn_genetic import GASearchCV\n",
    "from sklearn_genetic.space import Continuous, Categorical, Integer\n",
    "from sklearn_genetic.plots import plot_fitness_evolution, plot_search_space\n",
    "from sklearn.model_selection import cross_val_score\n",
    "from sklearn.metrics import matthews_corrcoef\n",
    "\n",
    "import warnings\n",
    "warnings.filterwarnings('ignore')"
   ]
  },
  {
   "cell_type": "code",
   "execution_count": 2,
   "metadata": {
    "executionInfo": {
     "elapsed": 23,
     "status": "ok",
     "timestamp": 1723310605596,
     "user": {
      "displayName": "Liaqat Ali",
      "userId": "05679016512873117773"
     },
     "user_tz": -300
    },
    "id": "nZp664twJf8_"
   },
   "outputs": [],
   "source": [
    "from sklearn.model_selection import KFold\n",
    "import numpy\n",
    "\n",
    "import matplotlib.pyplot as plt\n",
    "\n",
    "from scipy.stats import zscore\n",
    "from sklearn import metrics\n",
    "from sklearn.model_selection import KFold\n",
    "\n",
    "from sklearn.metrics import accuracy_score\n",
    "\n",
    "import math\n",
    "\n",
    "from sklearn.linear_model import LogisticRegression\n",
    "from sklearn.tree import DecisionTreeClassifier\n",
    "from sklearn.neighbors import KNeighborsClassifier\n",
    "from sklearn.discriminant_analysis import LinearDiscriminantAnalysis\n",
    "from sklearn.naive_bayes import GaussianNB\n",
    "from sklearn.svm import SVC\n",
    "from sklearn.ensemble import RandomForestClassifier\n",
    "from sklearn.svm import LinearSVC\n",
    "from sklearn.neural_network import MLPClassifier\n",
    "from sklearn.ensemble import AdaBoostClassifier\n",
    "\n",
    "\n",
    "from sklearn.feature_selection import SelectKBest\n",
    "from sklearn.feature_selection import f_classif\n",
    "from sklearn.model_selection import KFold\n",
    "from sklearn.neural_network import MLPClassifier\n",
    "from sklearn.svm import LinearSVC"
   ]
  },
  {
   "cell_type": "code",
   "execution_count": 3,
   "metadata": {
    "executionInfo": {
     "elapsed": 2152,
     "status": "ok",
     "timestamp": 1723310662657,
     "user": {
      "displayName": "Liaqat Ali",
      "userId": "05679016512873117773"
     },
     "user_tz": -300
    },
    "id": "0f_dkr7JJnJ7"
   },
   "outputs": [],
   "source": [
    "#Loading Data of Main Database\n",
    "\n",
    "X_H_All = [os.path.join(\"C:/Users/Liaqat Ali/Documents/ChiGaNet/NewHandPDImgs/HealthySpiral/HealthySpiral\",img) for img in os.listdir(\"C:/Users/Liaqat Ali/Documents/ChiGaNet/NewHandPDImgs/HealthySpiral/HealthySpiral\")]\n",
    "X_PD_All = [os.path.join(\"C:/Users/Liaqat Ali/Documents/ChiGaNet/NewHandPDImgs/PatientSpiral/PatientSpiral\",img) for img in os.listdir(\"C:/Users/Liaqat Ali/Documents/ChiGaNet/NewHandPDImgs/PatientSpiral/PatientSpiral\")]"
   ]
  },
  {
   "cell_type": "code",
   "execution_count": 4,
   "metadata": {
    "colab": {
     "base_uri": "https://localhost:8080/"
    },
    "executionInfo": {
     "elapsed": 1922,
     "status": "ok",
     "timestamp": 1723310664576,
     "user": {
      "displayName": "Liaqat Ali",
      "userId": "05679016512873117773"
     },
     "user_tz": -300
    },
    "id": "Xd4scRLsKGOW",
    "outputId": "8a74f9b4-108d-45f1-955f-be8a2f960aa5"
   },
   "outputs": [
    {
     "name": "stdout",
     "output_type": "stream",
     "text": [
      "[INFO] loading network...\n"
     ]
    }
   ],
   "source": [
    "# load the VGG16 network\n",
    "print(\"[INFO] loading network...\")\n",
    "\n",
    "# chop the top dense layers, include_top=False\n",
    "model = VGG16(weights=\"imagenet\", include_top=False)\n",
    "#model.summary()"
   ]
  },
  {
   "cell_type": "code",
   "execution_count": 5,
   "metadata": {
    "executionInfo": {
     "elapsed": 5,
     "status": "ok",
     "timestamp": 1723310664577,
     "user": {
      "displayName": "Liaqat Ali",
      "userId": "05679016512873117773"
     },
     "user_tz": -300
    },
    "id": "t43y5qNNKI5D"
   },
   "outputs": [],
   "source": [
    "def create_features(dataset, pre_model):\n",
    "\n",
    "    x_scratch = []\n",
    "\n",
    "    # loop over the images\n",
    "    for imagePath in dataset:\n",
    "\n",
    "        # load the input image and image is resized to 224x224 pixels\n",
    "        image = load_img(imagePath, target_size=(224, 224))\n",
    "        image = img_to_array(image)\n",
    "\n",
    "        # preprocess the image by (1) expanding the dimensions and\n",
    "        # (2) subtracting the mean RGB pixel intensity from the\n",
    "        # ImageNet dataset\n",
    "        image = np.expand_dims(image, axis=0)\n",
    "        image = imagenet_utils.preprocess_input(image)\n",
    "\n",
    "        # add the image to the batch\n",
    "        x_scratch.append(image)\n",
    "\n",
    "    x = np.vstack(x_scratch)\n",
    "    features = pre_model.predict(x, batch_size=32)\n",
    "    features_flatten = features.reshape((features.shape[0], 7 * 7 * 512))\n",
    "    return x, features, features_flatten"
   ]
  },
  {
   "cell_type": "code",
   "execution_count": 6,
   "metadata": {
    "colab": {
     "base_uri": "https://localhost:8080/"
    },
    "executionInfo": {
     "elapsed": 145064,
     "status": "ok",
     "timestamp": 1723310809638,
     "user": {
      "displayName": "Liaqat Ali",
      "userId": "05679016512873117773"
     },
     "user_tz": -300
    },
    "id": "eNvzpOWiKMyO",
    "outputId": "0e807f23-1adb-487c-98e5-54030837fa23"
   },
   "outputs": [
    {
     "name": "stdout",
     "output_type": "stream",
     "text": [
      "\u001b[1m5/5\u001b[0m \u001b[32m━━━━━━━━━━━━━━━━━━━━\u001b[0m\u001b[37m\u001b[0m \u001b[1m7s\u001b[0m 1s/step\n",
      "(140, 224, 224, 3)\n",
      "(140, 7, 7, 512)\n",
      "(140, 25088)\n"
     ]
    }
   ],
   "source": [
    "H_x_all, H_features_all, H_features_flatten_all = create_features(X_H_All, model)\n",
    "print(H_x_all.shape)\n",
    "print(H_features_all.shape)\n",
    "print(H_features_flatten_all.shape)"
   ]
  },
  {
   "cell_type": "code",
   "execution_count": 7,
   "metadata": {
    "colab": {
     "base_uri": "https://localhost:8080/"
    },
    "executionInfo": {
     "elapsed": 115983,
     "status": "ok",
     "timestamp": 1723310925617,
     "user": {
      "displayName": "Liaqat Ali",
      "userId": "05679016512873117773"
     },
     "user_tz": -300
    },
    "id": "Q8kquWdSKQPS",
    "outputId": "1c6326c7-ca35-433d-c031-f15348fdcdaf"
   },
   "outputs": [
    {
     "name": "stdout",
     "output_type": "stream",
     "text": [
      "\u001b[1m4/4\u001b[0m \u001b[32m━━━━━━━━━━━━━━━━━━━━\u001b[0m\u001b[37m\u001b[0m \u001b[1m6s\u001b[0m 1s/step\n",
      "(124, 224, 224, 3)\n",
      "(124, 7, 7, 512)\n",
      "(124, 25088)\n"
     ]
    }
   ],
   "source": [
    "PD_x_all, PD_features_all, PD_features_flatten_all = create_features(X_PD_All, model)\n",
    "print(PD_x_all.shape)\n",
    "print(PD_features_all.shape)\n",
    "print(PD_features_flatten_all.shape)"
   ]
  },
  {
   "cell_type": "code",
   "execution_count": 8,
   "metadata": {
    "colab": {
     "base_uri": "https://localhost:8080/"
    },
    "executionInfo": {
     "elapsed": 14,
     "status": "ok",
     "timestamp": 1723310925618,
     "user": {
      "displayName": "Liaqat Ali",
      "userId": "05679016512873117773"
     },
     "user_tz": -300
    },
    "id": "Y8HEwlbzKTbW",
    "outputId": "27b38084-40fa-468a-d28f-397d554a5b47"
   },
   "outputs": [
    {
     "name": "stdout",
     "output_type": "stream",
     "text": [
      "(124, 25088)\n",
      "(140, 25088)\n",
      "(124,)\n",
      "(140,)\n"
     ]
    }
   ],
   "source": [
    "X_H_all = H_features_flatten_all\n",
    "X_PD_all = PD_features_flatten_all\n",
    "\n",
    "print(X_PD_all.shape)\n",
    "print(X_H_all.shape)\n",
    "\n",
    "Y_PD_all = np.ones(124)\n",
    "Y_H_all = np.zeros(140)\n",
    "print(Y_PD_all.shape)\n",
    "print(Y_H_all.shape)"
   ]
  },
  {
   "cell_type": "code",
   "execution_count": 9,
   "metadata": {
    "colab": {
     "base_uri": "https://localhost:8080/"
    },
    "executionInfo": {
     "elapsed": 10,
     "status": "ok",
     "timestamp": 1723310925618,
     "user": {
      "displayName": "Liaqat Ali",
      "userId": "05679016512873117773"
     },
     "user_tz": -300
    },
    "id": "WkaTJazqKW6t",
    "outputId": "bc63168c-b1ad-414d-b4cd-a95fa9bd12fa"
   },
   "outputs": [
    {
     "name": "stdout",
     "output_type": "stream",
     "text": [
      "(264,)\n",
      "(264, 25088)\n"
     ]
    }
   ],
   "source": [
    "Y_all = np.append(Y_PD_all, Y_H_all, axis=0)\n",
    "print(Y_all.shape)\n",
    "X_all = np.append(X_PD_all, X_H_all, axis=0)\n",
    "print(X_all.shape)"
   ]
  },
  {
   "cell_type": "code",
   "execution_count": 10,
   "metadata": {
    "colab": {
     "base_uri": "https://localhost:8080/"
    },
    "executionInfo": {
     "elapsed": 8,
     "status": "ok",
     "timestamp": 1723310925618,
     "user": {
      "displayName": "Liaqat Ali",
      "userId": "05679016512873117773"
     },
     "user_tz": -300
    },
    "id": "wnxIibhuRI1V",
    "outputId": "c2ff3d05-c861-42ff-f99f-d9773fb3d7ef"
   },
   "outputs": [
    {
     "name": "stdout",
     "output_type": "stream",
     "text": [
      "(264, 25088)\n",
      "(264,)\n"
     ]
    }
   ],
   "source": [
    "X_HandPD_New = X_all\n",
    "Y_HandPD_New = Y_all\n",
    "print(X_HandPD_New.shape)\n",
    "print(Y_HandPD_New.shape)"
   ]
  },
  {
   "cell_type": "code",
   "execution_count": 11,
   "metadata": {
    "colab": {
     "base_uri": "https://localhost:8080/"
    },
    "executionInfo": {
     "elapsed": 6,
     "status": "ok",
     "timestamp": 1723310925618,
     "user": {
      "displayName": "Liaqat Ali",
      "userId": "05679016512873117773"
     },
     "user_tz": -300
    },
    "id": "Wh4A8O8CQcmI",
    "outputId": "ce0383e7-e199-4c00-81e3-35a6d321674c"
   },
   "outputs": [
    {
     "name": "stdout",
     "output_type": "stream",
     "text": [
      "[1. 1. 1. 1. 1. 1. 1. 1. 1. 1. 1. 1. 1. 1. 1. 1. 1. 1. 1. 1. 1. 1. 1. 1.\n",
      " 1. 1. 1. 1. 1. 1. 1. 1. 1. 1. 1. 1. 1. 1. 1. 1. 1. 1. 1. 1. 1. 1. 1. 1.\n",
      " 1. 1. 1. 1. 1. 1. 1. 1. 1. 1. 1. 1. 1. 1. 1. 1. 1. 1. 1. 1. 1. 1. 1. 1.\n",
      " 1. 1. 1. 1. 1. 1. 1. 1. 1. 1. 1. 1. 1. 1. 1. 1. 1. 1. 1. 1. 1. 1. 1. 1.\n",
      " 1. 1. 1. 1. 1. 1. 1. 1. 1. 1. 1. 1. 1. 1. 1. 1. 1. 1. 1. 1. 1. 1. 1. 1.\n",
      " 1. 1. 1. 1. 0. 0. 0. 0. 0. 0. 0. 0. 0. 0. 0. 0. 0. 0. 0. 0. 0. 0. 0. 0.\n",
      " 0. 0. 0. 0. 0. 0. 0. 0. 0. 0. 0. 0. 0. 0. 0. 0. 0. 0. 0. 0. 0. 0. 0. 0.\n",
      " 0. 0. 0. 0. 0. 0. 0. 0. 0. 0. 0. 0. 0. 0. 0. 0. 0. 0. 0. 0. 0. 0. 0. 0.\n",
      " 0. 0. 0. 0. 0. 0. 0. 0. 0. 0. 0. 0. 0. 0. 0. 0. 0. 0. 0. 0. 0. 0. 0. 0.\n",
      " 0. 0. 0. 0. 0. 0. 0. 0. 0. 0. 0. 0. 0. 0. 0. 0. 0. 0. 0. 0. 0. 0. 0. 0.\n",
      " 0. 0. 0. 0. 0. 0. 0. 0. 0. 0. 0. 0. 0. 0. 0. 0. 0. 0. 0. 0. 0. 0. 0. 0.]\n"
     ]
    }
   ],
   "source": [
    "#Importaing Testing Data from HandPD\n",
    "print(Y_HandPD_New)"
   ]
  },
  {
   "cell_type": "code",
   "execution_count": 12,
   "metadata": {
    "executionInfo": {
     "elapsed": 3002,
     "status": "ok",
     "timestamp": 1723310928615,
     "user": {
      "displayName": "Liaqat Ali",
      "userId": "05679016512873117773"
     },
     "user_tz": -300
    },
    "id": "0W3EGrVhQlAL"
   },
   "outputs": [],
   "source": [
    "\n",
    "X_H_All = [os.path.join(\"C:/Users/Liaqat Ali/Documents/ChiGaNet/HandPDImgs/Spiral_HandPD/SpiralControl\",img) for img in os.listdir(\"C:/Users/Liaqat Ali/Documents/ChiGaNet/HandPDImgs/Spiral_HandPD/SpiralControl\")]\n",
    "X_PD_All = [os.path.join(\"C:/Users/Liaqat Ali/Documents/ChiGaNet/HandPDImgs/Spiral_HandPD/SpiralPatients\",img) for img in os.listdir(\"C:/Users/Liaqat Ali/Documents/ChiGaNet/HandPDImgs/Spiral_HandPD/SpiralPatients\")]"
   ]
  },
  {
   "cell_type": "code",
   "execution_count": 13,
   "metadata": {
    "colab": {
     "base_uri": "https://localhost:8080/"
    },
    "executionInfo": {
     "elapsed": 18,
     "status": "ok",
     "timestamp": 1723310928615,
     "user": {
      "displayName": "Liaqat Ali",
      "userId": "05679016512873117773"
     },
     "user_tz": -300
    },
    "id": "JPQCj4eJWlFo",
    "outputId": "99a89526-007e-47c3-9325-5fccf404b621"
   },
   "outputs": [],
   "source": [
    "X_H_All = natsort.natsorted(X_H_All,reverse=False)\n",
    "X_PD_All = natsort.natsorted(X_PD_All,reverse=False)"
   ]
  },
  {
   "cell_type": "code",
   "execution_count": 14,
   "metadata": {
    "colab": {
     "base_uri": "https://localhost:8080/"
    },
    "executionInfo": {
     "elapsed": 7,
     "status": "ok",
     "timestamp": 1723310928615,
     "user": {
      "displayName": "Liaqat Ali",
      "userId": "05679016512873117773"
     },
     "user_tz": -300
    },
    "id": "vwCG2gZTWsge",
    "outputId": "d927f922-cf28-46ba-c9aa-54a85d489347"
   },
   "outputs": [
    {
     "name": "stdout",
     "output_type": "stream",
     "text": [
      "[INFO] loading network...\n"
     ]
    }
   ],
   "source": [
    "# load the VGG16 network\n",
    "print(\"[INFO] loading network...\")\n",
    "\n",
    "# chop the top dense layers, include_top=False\n",
    "model = VGG16(weights=\"imagenet\", include_top=False)\n",
    "#model.summary()"
   ]
  },
  {
   "cell_type": "code",
   "execution_count": 15,
   "metadata": {
    "colab": {
     "base_uri": "https://localhost:8080/"
    },
    "executionInfo": {
     "elapsed": 103534,
     "status": "ok",
     "timestamp": 1723311032145,
     "user": {
      "displayName": "Liaqat Ali",
      "userId": "05679016512873117773"
     },
     "user_tz": -300
    },
    "id": "aG9RBfDyWvz4",
    "outputId": "c16631a3-0c0c-4ddc-8445-2eae19cef23a"
   },
   "outputs": [
    {
     "name": "stdout",
     "output_type": "stream",
     "text": [
      "\u001b[1m3/3\u001b[0m \u001b[32m━━━━━━━━━━━━━━━━━━━━\u001b[0m\u001b[37m\u001b[0m \u001b[1m3s\u001b[0m 970ms/step\n",
      "(72, 224, 224, 3)\n",
      "(72, 7, 7, 512)\n",
      "(72, 25088)\n"
     ]
    }
   ],
   "source": [
    "H_x_all, H_features_all, H_features_flatten_all = create_features(X_H_All, model)\n",
    "print(H_x_all.shape)\n",
    "print(H_features_all.shape)\n",
    "print(H_features_flatten_all.shape)"
   ]
  },
  {
   "cell_type": "code",
   "execution_count": 16,
   "metadata": {
    "colab": {
     "base_uri": "https://localhost:8080/"
    },
    "executionInfo": {
     "elapsed": 211805,
     "status": "ok",
     "timestamp": 1723311243928,
     "user": {
      "displayName": "Liaqat Ali",
      "userId": "05679016512873117773"
     },
     "user_tz": -300
    },
    "id": "xygMu56fW2aw",
    "outputId": "36544e39-b761-4948-dac0-f98ceb6fe01e"
   },
   "outputs": [
    {
     "name": "stdout",
     "output_type": "stream",
     "text": [
      "\u001b[1m10/10\u001b[0m \u001b[32m━━━━━━━━━━━━━━━━━━━━\u001b[0m\u001b[37m\u001b[0m \u001b[1m25s\u001b[0m 3s/step\n",
      "(296, 224, 224, 3)\n",
      "(296, 7, 7, 512)\n",
      "(296, 25088)\n"
     ]
    }
   ],
   "source": [
    "PD_x_all, PD_features_all, PD_features_flatten_all = create_features(X_PD_All, model)\n",
    "print(PD_x_all.shape)\n",
    "print(PD_features_all.shape)\n",
    "print(PD_features_flatten_all.shape)"
   ]
  },
  {
   "cell_type": "code",
   "execution_count": 17,
   "metadata": {
    "colab": {
     "base_uri": "https://localhost:8080/"
    },
    "executionInfo": {
     "elapsed": 7,
     "status": "ok",
     "timestamp": 1723311243928,
     "user": {
      "displayName": "Liaqat Ali",
      "userId": "05679016512873117773"
     },
     "user_tz": -300
    },
    "id": "mhQdxF6XYK9_",
    "outputId": "4c5e4da7-98b5-480c-cf25-646bfd8186a5"
   },
   "outputs": [
    {
     "name": "stdout",
     "output_type": "stream",
     "text": [
      "(296, 25088)\n",
      "(72, 25088)\n",
      "(296,)\n",
      "(72,)\n"
     ]
    }
   ],
   "source": [
    "X_H_all = H_features_flatten_all\n",
    "X_PD_all = PD_features_flatten_all\n",
    "\n",
    "print(X_PD_all.shape)\n",
    "print(X_H_all.shape)\n",
    "\n",
    "Y_PD_all = np.ones(296)\n",
    "Y_H_all = np.zeros(72)\n",
    "print(Y_PD_all.shape)\n",
    "print(Y_H_all.shape)"
   ]
  },
  {
   "cell_type": "code",
   "execution_count": 18,
   "metadata": {
    "colab": {
     "base_uri": "https://localhost:8080/"
    },
    "executionInfo": {
     "elapsed": 6,
     "status": "ok",
     "timestamp": 1723311243929,
     "user": {
      "displayName": "Liaqat Ali",
      "userId": "05679016512873117773"
     },
     "user_tz": -300
    },
    "id": "p-6JLWG5Ym9f",
    "outputId": "e0b5483f-4963-499e-f738-b49887f9b43e"
   },
   "outputs": [
    {
     "name": "stdout",
     "output_type": "stream",
     "text": [
      "(368,)\n",
      "(368, 25088)\n"
     ]
    }
   ],
   "source": [
    "Y_HandPD = np.append(Y_PD_all, Y_H_all, axis=0)\n",
    "print(Y_HandPD.shape)\n",
    "X_HandPD = np.append(X_PD_all, X_H_all, axis=0)\n",
    "print(X_HandPD.shape)"
   ]
  },
  {
   "cell_type": "code",
   "execution_count": 19,
   "metadata": {
    "colab": {
     "base_uri": "https://localhost:8080/"
    },
    "executionInfo": {
     "elapsed": 797,
     "status": "ok",
     "timestamp": 1723311244722,
     "user": {
      "displayName": "Liaqat Ali",
      "userId": "05679016512873117773"
     },
     "user_tz": -300
    },
    "id": "vSC2tIY6y1kK",
    "outputId": "5c21c49d-8a10-4f2b-d9f6-7c032f4ac5ba"
   },
   "outputs": [
    {
     "name": "stdout",
     "output_type": "stream",
     "text": [
      "(264, 130)\n",
      "(368, 130)\n"
     ]
    }
   ],
   "source": [
    ">>> from sklearn.svm import LinearSVC\n",
    ">>> from sklearn.feature_selection import SelectFromModel\n",
    "\n",
    ">>> model_FS = SelectKBest(chi2, k=130) # We tried different k i.e. 20, 30, 40, 50, ..., 150 and found out that 130 is optimal\n",
    ">>> model_FS.fit(X_HandPD_New, Y_HandPD_New)\n",
    ">>> X_FS_HandPD_New = model_FS.transform(X_HandPD_New)\n",
    ">>> X_FS_HandPD = model_FS.transform(X_HandPD)\n",
    ">>> print(X_FS_HandPD_New.shape)\n",
    ">>> print(X_FS_HandPD.shape)"
   ]
  },
  {
   "cell_type": "markdown",
   "metadata": {
    "id": "3dhFbYW4iYyf"
   },
   "source": [
    "# **Developing Model under LOSO Cross Validation on the New HandPD Data**"
   ]
  },
  {
   "cell_type": "markdown",
   "metadata": {
    "id": "n450eFc8imq_"
   },
   "source": [
    "**1. Time by GA**"
   ]
  },
  {
   "cell_type": "code",
   "execution_count": 20,
   "metadata": {},
   "outputs": [
    {
     "name": "stdout",
     "output_type": "stream",
     "text": [
      "Time taken by the genetic algorithm for hyperparameter optimization: 96.83 seconds\n"
     ]
    }
   ],
   "source": [
    "opt_alpha = 0\n",
    "opt_n1 = 0\n",
    "opt_n2 = 0\n",
    "    \n",
    "clf = MLPClassifier( random_state=1)\n",
    "x = range(1,31)\n",
    "#param_grid= {'gamma': Continuous(0.0001, 1000, distribution='log-uniform'),'C': Continuous(0.0001, 1000, distribution='log-uniform')}\n",
    "param_grid = {\n",
    "    \"hidden_layer_sizes\": Categorical(list(itertools.combinations(x, 2))),\n",
    "    \"alpha\": Categorical([1e-5]),\n",
    "    \"solver\": Categorical(['lbfgs'])\n",
    "}\n",
    "cv = KFold(n_splits=66)\n",
    "\n",
    "evolved_estimator = GASearchCV(estimator=clf,\n",
    "                           cv=cv,\n",
    "                           scoring='accuracy',\n",
    "                           population_size=30,\n",
    "                           generations=25,\n",
    "                           tournament_size=3,\n",
    "                           elitism=True,\n",
    "                           crossover_probability=0.8,\n",
    "                           mutation_probability=0.1,\n",
    "                           param_grid=param_grid,\n",
    "                           criteria='max',\n",
    "                           algorithm='eaMuPlusLambda',\n",
    "                           n_jobs=-1,\n",
    "                           verbose=False,\n",
    "                           keep_top_k=4)\n",
    "\n",
    "# Record the start time\n",
    "start_time = time.time()\n",
    "\n",
    "evolved_estimator.fit(X_FS_HandPD_New, Y_HandPD_New)\n",
    "\n",
    "# Record the end time\n",
    "end_time = time.time()\n",
    "\n",
    "# Calculate the elapsed time\n",
    "elapsed_time = end_time - start_time\n",
    "print(f\"Time taken by the genetic algorithm for hyperparameter optimization: {elapsed_time:.2f} seconds\")\n",
    "\n"
   ]
  },
  {
   "cell_type": "markdown",
   "metadata": {},
   "source": [
    "# Grid Search"
   ]
  },
  {
   "cell_type": "code",
   "execution_count": 21,
   "metadata": {},
   "outputs": [
    {
     "name": "stdout",
     "output_type": "stream",
     "text": [
      "Time taken by Grid Search: 1202.12 seconds\n"
     ]
    }
   ],
   "source": [
    "# Time the Grid Search\n",
    "# Define the range for hidden layer sizes (1 to 30 neurons for both layers)\n",
    "layer_range = range(1, 31)\n",
    "hidden_layer_combinations = list(itertools.product(layer_range, repeat=2))  # All combinations of two hidden layers\n",
    "\n",
    "# Define the parameter grid for Grid Search\n",
    "param_grid = {\n",
    "    'alpha': [1e-5],  # Fix alpha to 1e-5\n",
    "    'hidden_layer_sizes': hidden_layer_combinations,  # Search all combinations of hidden layer sizes\n",
    "    'solver': ['lbfgs'],  # Fix solver to 'lbfgs'\n",
    "}\n",
    "\n",
    "\n",
    "\n",
    "# Initialize GridSearchCV with the updated param_grid (as a list)\n",
    "grid_search = GridSearchCV(estimator=clf,\n",
    "                           param_grid=param_grid,\n",
    "                           scoring='accuracy',\n",
    "                           cv=cv,\n",
    "                           n_jobs=-1,\n",
    "                           verbose=0)\n",
    "start_time = time.time()\n",
    "# Fit the Grid Search model\n",
    "grid_search.fit(X_FS_HandPD_New, Y_HandPD_New)\n",
    "\n",
    "# Record end time for Grid Search\n",
    "end_time = time.time()\n",
    "grid_search_time = end_time - start_time\n",
    "print(f\"Time taken by Grid Search: {grid_search_time:.2f} seconds\")\n",
    "\n"
   ]
  },
  {
   "cell_type": "markdown",
   "metadata": {},
   "source": [
    "# Random Search"
   ]
  },
  {
   "cell_type": "code",
   "execution_count": 22,
   "metadata": {},
   "outputs": [
    {
     "name": "stdout",
     "output_type": "stream",
     "text": [
      "Fitting 66 folds for each of 450 candidates, totalling 29700 fits\n",
      "Time taken by RandomizedSearchCV: 520.22 seconds\n"
     ]
    }
   ],
   "source": [
    "# Time the Grid Search\n",
    "# Define the range for hidden layer sizes (1 to 30 neurons for both layers)\n",
    "layer_range = range(1, 31)\n",
    "hidden_layer_combinations = list(itertools.product(layer_range, repeat=2))  # All combinations of two hidden layers\n",
    "\n",
    "# Define the parameter grid for Grid Search\n",
    "param_grid = {\n",
    "    'alpha': [1e-5],  # Fix alpha to 1e-5\n",
    "    'hidden_layer_sizes': hidden_layer_combinations,  # Search all combinations of hidden layer sizes\n",
    "    'solver': ['lbfgs'],  # Fix solver to 'lbfgs'\n",
    "}\n",
    "\n",
    "\n",
    "random_search = RandomizedSearchCV(estimator=clf,\n",
    "                                   param_distributions=param_grid,\n",
    "                                   n_iter=450,  # Number of random combinations to sample (change as needed)\n",
    "                                   scoring='accuracy',\n",
    "                                   cv=cv,\n",
    "                                   n_jobs=-1,  # Use all available CPU cores\n",
    "                                   verbose=1,  # Print progress\n",
    "                                   random_state=42)  # Ensure reproducibility\n",
    "\n",
    "# Record the start time\n",
    "start_time = time.time()\n",
    "\n",
    "# Fit the model using RandomizedSearchCV\n",
    "random_search.fit(X_FS_HandPD_New, Y_HandPD_New)\n",
    "\n",
    "# Record the end time\n",
    "end_time = time.time()\n",
    "\n",
    "# Calculate the time taken for Randomized Search\n",
    "random_search_time = end_time - start_time\n",
    "print(f\"Time taken by RandomizedSearchCV: {random_search_time:.2f} seconds\")\n"
   ]
  },
  {
   "cell_type": "code",
   "execution_count": 23,
   "metadata": {
    "id": "A5bJBXFCBnH1"
   },
   "outputs": [
    {
     "name": "stdout",
     "output_type": "stream",
     "text": [
      "Done\n"
     ]
    }
   ],
   "source": [
    "print(\"Done\")"
   ]
  }
 ],
 "metadata": {
  "colab": {
   "authorship_tag": "ABX9TyMiEbilEWWA+rkimYeb/cNB",
   "provenance": []
  },
  "kernelspec": {
   "display_name": "Python 3 (ipykernel)",
   "language": "python",
   "name": "python3"
  },
  "language_info": {
   "codemirror_mode": {
    "name": "ipython",
    "version": 3
   },
   "file_extension": ".py",
   "mimetype": "text/x-python",
   "name": "python",
   "nbconvert_exporter": "python",
   "pygments_lexer": "ipython3",
   "version": "3.12.3"
  }
 },
 "nbformat": 4,
 "nbformat_minor": 4
}
